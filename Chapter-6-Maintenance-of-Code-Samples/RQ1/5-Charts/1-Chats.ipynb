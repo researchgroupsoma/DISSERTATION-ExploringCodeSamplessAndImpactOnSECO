{
 "cells": [
  {
   "cell_type": "code",
   "execution_count": 1,
   "id": "45dc7c32",
   "metadata": {},
   "outputs": [],
   "source": [
    "import pandas as pd\n",
    "import seaborn as sns\n",
    "import matplotlib.pyplot as plt\n",
    "import numpy as np"
   ]
  },
  {
   "cell_type": "code",
   "execution_count": 2,
   "id": "219bff48",
   "metadata": {},
   "outputs": [],
   "source": [
    "data = pd.read_csv(\"../4-SummarizeMaintainersInfo/all.csv\")"
   ]
  },
  {
   "cell_type": "code",
   "execution_count": 4,
   "id": "924954c2",
   "metadata": {},
   "outputs": [],
   "source": [
    "android = data[data[\"framework\"] == \"Android\"]"
   ]
  },
  {
   "cell_type": "code",
   "execution_count": 5,
   "id": "b2022686",
   "metadata": {},
   "outputs": [],
   "source": [
    "aws = data[data[\"framework\"] == \"AWS\"]"
   ]
  },
  {
   "cell_type": "code",
   "execution_count": 6,
   "id": "b686b3d6",
   "metadata": {},
   "outputs": [],
   "source": [
    "azure = data[data[\"framework\"] == \"Azure\"]"
   ]
  },
  {
   "cell_type": "code",
   "execution_count": 7,
   "id": "9ef8c32e",
   "metadata": {},
   "outputs": [],
   "source": [
    "spring = data[data[\"framework\"] == \"Spring\"]"
   ]
  },
  {
   "cell_type": "code",
   "execution_count": 8,
   "id": "1547df5f",
   "metadata": {},
   "outputs": [],
   "source": [
    "def get_general_projects(samples):\n",
    "    general_projects = {\n",
    "    \"PushEvent\": samples[\"general_project_PushEvent\"].sum(),\n",
    "    \"PullRequestEvent\": samples[\"general_project_PullRequestEvent\"].sum(),\n",
    "    \"CreateEvent\": samples[\"general_project_CreateEvent\"].sum(),\n",
    "    \"PullRequestReviewEvent\": samples[\"general_project_PullRequestReviewEvent\"].sum(),\n",
    "    \"DeleteEvent\": samples[\"general_project_DeleteEvent\"].sum(),\n",
    "    \"PullRequestReviewCommentEvent\": samples[\"general_project_PullRequestReviewCommentEvent\"].sum(),\n",
    "    \"MemberEvent\": samples[\"general_project_MemberEvent\"].sum(),\n",
    "    \"IssuesEvent\": samples[\"general_project_IssuesEvent\"].sum(),\n",
    "    \"WatchEvent\": samples[\"general_project_WatchEvent\"].sum(),\n",
    "    \"ReleaseEvent\": samples[\"general_project_ReleaseEvent\"].sum(),\n",
    "    \"ForkEvent\": samples[\"general_project_ForkEvent\"].sum(),\n",
    "    \"PublicEvent\": samples[\"general_project_PublicEvent\"].sum(),\n",
    "    \"CommitCommentEvent\": samples[\"general_project_CommitCommentEvent\"].sum(),\n",
    "}\n",
    "    general_projects = pd.Series(general_projects).sort_values(ascending=False)\n",
    "    return general_projects"
   ]
  },
  {
   "cell_type": "code",
   "execution_count": 9,
   "id": "456abb0d",
   "metadata": {},
   "outputs": [],
   "source": [
    "def get_code_samples(samples):\n",
    "    code_samples = {\n",
    "    \"PushEvent\": samples[\"code_sample_PushEvent\"].sum(),\n",
    "    \"PullRequestEvent\": samples[\"code_sample_PullRequestEvent\"].sum(),\n",
    "    \"CreateEvent\": samples[\"code_sample_CreateEvent\"].sum(),\n",
    "    \"PullRequestReviewEvent\": samples[\"code_sample_PullRequestReviewEvent\"].sum(),\n",
    "    \"DeleteEvent\": samples[\"code_sample_DeleteEvent\"].sum(),\n",
    "    \"PullRequestReviewCommentEvent\": samples[\"code_sample_PullRequestReviewCommentEvent\"].sum(),\n",
    "    \"MemberEvent\": samples[\"code_sample_MemberEvent\"].sum(),\n",
    "    \"IssuesEvent\": samples[\"code_sample_IssuesEvent\"].sum(),\n",
    "    \"WatchEvent\": samples[\"code_sample_WatchEvent\"].sum(),\n",
    "    \"ReleaseEvent\": samples[\"code_sample_ReleaseEvent\"].sum(),\n",
    "    \"ForkEvent\": samples[\"code_sample_ForkEvent\"].sum(),\n",
    "    \"CommitCommentEvent\": samples[\"code_sample_CommitCommentEvent\"].sum()\n",
    "}\n",
    "    code_samples = pd.Series(code_samples).sort_values(ascending=False)\n",
    "    return code_samples"
   ]
  },
  {
   "cell_type": "code",
   "execution_count": 11,
   "id": "0065c182",
   "metadata": {},
   "outputs": [],
   "source": [
    "android_general_projects = get_general_projects(android)"
   ]
  },
  {
   "cell_type": "code",
   "execution_count": 12,
   "id": "2b4b9672",
   "metadata": {},
   "outputs": [],
   "source": [
    "aws_general_projects = get_general_projects(aws)"
   ]
  },
  {
   "cell_type": "code",
   "execution_count": 13,
   "id": "b04f89a3",
   "metadata": {},
   "outputs": [],
   "source": [
    "azure_general_projects = get_general_projects(azure)"
   ]
  },
  {
   "cell_type": "code",
   "execution_count": 14,
   "id": "10283c61",
   "metadata": {},
   "outputs": [],
   "source": [
    "spring_general_projects = get_general_projects(spring)"
   ]
  },
  {
   "cell_type": "code",
   "execution_count": 15,
   "id": "5a388e18",
   "metadata": {},
   "outputs": [],
   "source": [
    "general_projects = get_general_projects(data)"
   ]
  },
  {
   "cell_type": "code",
   "execution_count": 42,
   "id": "fc91a38e",
   "metadata": {},
   "outputs": [
    {
     "data": {
      "text/plain": [
       "PushEvent                        96.0\n",
       "PullRequestEvent                 61.0\n",
       "PullRequestReviewEvent           45.0\n",
       "PullRequestReviewCommentEvent    45.0\n",
       "IssuesEvent                      25.0\n",
       "CreateEvent                      19.0\n",
       "WatchEvent                       15.0\n",
       "DeleteEvent                      14.0\n",
       "MemberEvent                       6.0\n",
       "ForkEvent                         4.0\n",
       "ReleaseEvent                      1.0\n",
       "PublicEvent                       0.0\n",
       "CommitCommentEvent                0.0\n",
       "dtype: float64"
      ]
     },
     "execution_count": 42,
     "metadata": {},
     "output_type": "execute_result"
    }
   ],
   "source": [
    "android_general_projects"
   ]
  },
  {
   "cell_type": "code",
   "execution_count": 43,
   "id": "3ea1805b",
   "metadata": {},
   "outputs": [
    {
     "data": {
      "text/plain": [
       "PushEvent                        1060.0\n",
       "PullRequestReviewEvent            328.0\n",
       "PullRequestEvent                  273.0\n",
       "CreateEvent                       221.0\n",
       "PullRequestReviewCommentEvent     190.0\n",
       "WatchEvent                        142.0\n",
       "DeleteEvent                       114.0\n",
       "IssuesEvent                       111.0\n",
       "ForkEvent                          45.0\n",
       "ReleaseEvent                        8.0\n",
       "PublicEvent                         4.0\n",
       "CommitCommentEvent                  2.0\n",
       "MemberEvent                         0.0\n",
       "dtype: float64"
      ]
     },
     "execution_count": 43,
     "metadata": {},
     "output_type": "execute_result"
    }
   ],
   "source": [
    "aws_general_projects"
   ]
  },
  {
   "cell_type": "code",
   "execution_count": 44,
   "id": "8aa9cb49",
   "metadata": {
    "collapsed": true
   },
   "outputs": [
    {
     "data": {
      "text/plain": [
       "PushEvent                        2607.0\n",
       "PullRequestReviewEvent           1027.0\n",
       "PullRequestEvent                  659.0\n",
       "PullRequestReviewCommentEvent     613.0\n",
       "CreateEvent                       575.0\n",
       "DeleteEvent                       307.0\n",
       "IssuesEvent                       277.0\n",
       "MemberEvent                       163.0\n",
       "WatchEvent                         60.0\n",
       "ForkEvent                          50.0\n",
       "CommitCommentEvent                 18.0\n",
       "ReleaseEvent                       16.0\n",
       "PublicEvent                         3.0\n",
       "dtype: float64"
      ]
     },
     "execution_count": 44,
     "metadata": {},
     "output_type": "execute_result"
    }
   ],
   "source": [
    "azure_general_projects"
   ]
  },
  {
   "cell_type": "code",
   "execution_count": 45,
   "id": "a8121239",
   "metadata": {
    "collapsed": true
   },
   "outputs": [
    {
     "data": {
      "text/plain": [
       "PushEvent                        799.0\n",
       "IssuesEvent                      180.0\n",
       "CreateEvent                      154.0\n",
       "PullRequestEvent                 101.0\n",
       "PullRequestReviewCommentEvent     69.0\n",
       "PullRequestReviewEvent            61.0\n",
       "WatchEvent                        24.0\n",
       "DeleteEvent                       18.0\n",
       "ForkEvent                         16.0\n",
       "MemberEvent                        4.0\n",
       "ReleaseEvent                       2.0\n",
       "CommitCommentEvent                 1.0\n",
       "PublicEvent                        0.0\n",
       "dtype: float64"
      ]
     },
     "execution_count": 45,
     "metadata": {},
     "output_type": "execute_result"
    }
   ],
   "source": [
    "spring_general_projects"
   ]
  },
  {
   "cell_type": "code",
   "execution_count": 29,
   "id": "bf6181cc",
   "metadata": {
    "collapsed": true
   },
   "outputs": [
    {
     "data": {
      "text/plain": [
       "PushEvent                        42.904166\n",
       "PullRequestReviewEvent           13.740243\n",
       "PullRequestEvent                 10.288724\n",
       "CreateEvent                       9.113138\n",
       "PullRequestReviewCommentEvent     8.624095\n",
       "IssuesEvent                       5.576977\n",
       "DeleteEvent                       4.260322\n",
       "WatchEvent                        2.266529\n",
       "MemberEvent                       1.627010\n",
       "ForkEvent                         1.081539\n",
       "ReleaseEvent                      0.253926\n",
       "CommitCommentEvent                0.197498\n",
       "PublicEvent                       0.065833\n",
       "dtype: float64"
      ]
     },
     "execution_count": 29,
     "metadata": {},
     "output_type": "execute_result"
    }
   ],
   "source": [
    "(general_projects/general_projects.sum()) * 100"
   ]
  },
  {
   "cell_type": "code",
   "execution_count": 46,
   "id": "0ef2aa80",
   "metadata": {},
   "outputs": [],
   "source": [
    "android_code_samples = get_code_samples(android)"
   ]
  },
  {
   "cell_type": "code",
   "execution_count": 47,
   "id": "5ac86234",
   "metadata": {},
   "outputs": [],
   "source": [
    "aws_code_samples = get_code_samples(aws)"
   ]
  },
  {
   "cell_type": "code",
   "execution_count": 48,
   "id": "21705cc8",
   "metadata": {},
   "outputs": [],
   "source": [
    "azure_code_samples = get_code_samples(azure)"
   ]
  },
  {
   "cell_type": "code",
   "execution_count": 49,
   "id": "97e7efdd",
   "metadata": {},
   "outputs": [],
   "source": [
    "spring_code_samples = get_code_samples(spring)"
   ]
  },
  {
   "cell_type": "code",
   "execution_count": 17,
   "id": "4b7d2d3a",
   "metadata": {},
   "outputs": [],
   "source": [
    "code_samples = get_code_samples(data)"
   ]
  },
  {
   "cell_type": "code",
   "execution_count": 50,
   "id": "2ec862e1",
   "metadata": {},
   "outputs": [
    {
     "data": {
      "text/plain": [
       "IssuesEvent                      27.0\n",
       "PushEvent                        26.0\n",
       "PullRequestEvent                  8.0\n",
       "ForkEvent                         2.0\n",
       "CreateEvent                       1.0\n",
       "PullRequestReviewEvent            1.0\n",
       "DeleteEvent                       1.0\n",
       "PullRequestReviewCommentEvent     0.0\n",
       "MemberEvent                       0.0\n",
       "WatchEvent                        0.0\n",
       "ReleaseEvent                      0.0\n",
       "CommitCommentEvent                0.0\n",
       "dtype: float64"
      ]
     },
     "execution_count": 50,
     "metadata": {},
     "output_type": "execute_result"
    }
   ],
   "source": [
    "android_code_samples"
   ]
  },
  {
   "cell_type": "code",
   "execution_count": 51,
   "id": "36d2a80b",
   "metadata": {},
   "outputs": [
    {
     "data": {
      "text/plain": [
       "PushEvent                        705.0\n",
       "PullRequestEvent                 497.0\n",
       "PullRequestReviewEvent           359.0\n",
       "DeleteEvent                      171.0\n",
       "CreateEvent                       92.0\n",
       "PullRequestReviewCommentEvent     69.0\n",
       "WatchEvent                        49.0\n",
       "IssuesEvent                       44.0\n",
       "ReleaseEvent                      23.0\n",
       "ForkEvent                         15.0\n",
       "MemberEvent                        1.0\n",
       "CommitCommentEvent                 0.0\n",
       "dtype: float64"
      ]
     },
     "execution_count": 51,
     "metadata": {},
     "output_type": "execute_result"
    }
   ],
   "source": [
    "aws_code_samples"
   ]
  },
  {
   "cell_type": "code",
   "execution_count": 52,
   "id": "e7e48bca",
   "metadata": {},
   "outputs": [
    {
     "data": {
      "text/plain": [
       "PushEvent                        485.0\n",
       "PullRequestEvent                 291.0\n",
       "PullRequestReviewEvent           183.0\n",
       "PullRequestReviewCommentEvent    121.0\n",
       "CreateEvent                       75.0\n",
       "ForkEvent                         42.0\n",
       "DeleteEvent                       40.0\n",
       "MemberEvent                       35.0\n",
       "IssuesEvent                       26.0\n",
       "WatchEvent                        14.0\n",
       "ReleaseEvent                       1.0\n",
       "CommitCommentEvent                 1.0\n",
       "dtype: float64"
      ]
     },
     "execution_count": 52,
     "metadata": {},
     "output_type": "execute_result"
    }
   ],
   "source": [
    "azure_code_samples"
   ]
  },
  {
   "cell_type": "code",
   "execution_count": 53,
   "id": "17d8f311",
   "metadata": {},
   "outputs": [
    {
     "data": {
      "text/plain": [
       "PushEvent                        48.0\n",
       "PullRequestEvent                  6.0\n",
       "PullRequestReviewEvent            3.0\n",
       "IssuesEvent                       1.0\n",
       "WatchEvent                        1.0\n",
       "ForkEvent                         1.0\n",
       "CreateEvent                       0.0\n",
       "DeleteEvent                       0.0\n",
       "PullRequestReviewCommentEvent     0.0\n",
       "MemberEvent                       0.0\n",
       "ReleaseEvent                      0.0\n",
       "CommitCommentEvent                0.0\n",
       "dtype: float64"
      ]
     },
     "execution_count": 53,
     "metadata": {},
     "output_type": "execute_result"
    }
   ],
   "source": [
    "spring_code_samples"
   ]
  },
  {
   "cell_type": "code",
   "execution_count": 25,
   "id": "3ead5167",
   "metadata": {},
   "outputs": [
    {
     "data": {
      "text/plain": [
       "PushEvent                        36.479076\n",
       "PullRequestEvent                 23.145743\n",
       "PullRequestReviewEvent           15.757576\n",
       "DeleteEvent                       6.118326\n",
       "PullRequestReviewCommentEvent     5.483405\n",
       "CreateEvent                       4.848485\n",
       "IssuesEvent                       2.828283\n",
       "WatchEvent                        1.847042\n",
       "ForkEvent                         1.731602\n",
       "MemberEvent                       1.038961\n",
       "ReleaseEvent                      0.692641\n",
       "CommitCommentEvent                0.028860\n",
       "dtype: float64"
      ]
     },
     "execution_count": 25,
     "metadata": {},
     "output_type": "execute_result"
    }
   ],
   "source": [
    "(code_samples/code_samples.sum()) * 100"
   ]
  },
  {
   "cell_type": "code",
   "execution_count": 26,
   "id": "56147c03",
   "metadata": {},
   "outputs": [
    {
     "data": {
      "text/plain": [
       "3465.0"
      ]
     },
     "execution_count": 26,
     "metadata": {},
     "output_type": "execute_result"
    }
   ],
   "source": [
    "code_samples.sum()"
   ]
  },
  {
   "cell_type": "code",
   "execution_count": 54,
   "id": "45c4bb07",
   "metadata": {},
   "outputs": [],
   "source": [
    "for column in data.columns:\n",
    "    if not \"language\" in column:\n",
    "        data.drop(columns=column, inplace=True)\n",
    "data.fillna(0, inplace=True)"
   ]
  },
  {
   "cell_type": "code",
   "execution_count": 55,
   "id": "ba3fef2e",
   "metadata": {
    "scrolled": true
   },
   "outputs": [
    {
     "data": {
      "text/plain": [
       "language_Java                       5070.0\n",
       "language_TypeScript                 1430.0\n",
       "language_Kotlin                     1267.0\n",
       "language_C#                          964.0\n",
       "language_Shell                       923.0\n",
       "language_Python                      831.0\n",
       "language_JavaScript                  823.0\n",
       "language_PowerShell                  694.0\n",
       "language_HTML                        486.0\n",
       "language_Rust                        406.0\n",
       "language_C                           269.0\n",
       "language_HCL                         249.0\n",
       "language_CSS                         216.0\n",
       "language_Objective-C                 189.0\n",
       "language_Jupyter Notebook            182.0\n",
       "language_Swift                       134.0\n",
       "language_Dockerfile                   84.0\n",
       "language_Go                           82.0\n",
       "language_C++                          80.0\n",
       "language_PLpgSQL                      60.0\n",
       "language_None                         59.0\n",
       "language_Vue                          30.0\n",
       "language_Ruby                         23.0\n",
       "language_SCSS                         20.0\n",
       "language_Groovy                       18.0\n",
       "language_Scala                        14.0\n",
       "language_PHP                          10.0\n",
       "language_Bicep                         8.0\n",
       "language_Dart                          6.0\n",
       "language_Nix                           5.0\n",
       "language_XSLT                          5.0\n",
       "language_GCC Machine Description       5.0\n",
       "language_FreeMarker                    4.0\n",
       "language_Jinja                         4.0\n",
       "language_Emacs Lisp                    3.0\n",
       "language_WebAssembly                   2.0\n",
       "language_ActionScript                  2.0\n",
       "language_OCaml                         2.0\n",
       "language_TeX                           1.0\n",
       "language_CoffeeScript                  1.0\n",
       "language_R                             1.0\n",
       "dtype: float64"
      ]
     },
     "execution_count": 55,
     "metadata": {},
     "output_type": "execute_result"
    }
   ],
   "source": [
    "data.sum().sort_values(ascending=False)"
   ]
  }
 ],
 "metadata": {
  "kernelspec": {
   "display_name": "Python 3 (ipykernel)",
   "language": "python",
   "name": "python3"
  },
  "language_info": {
   "codemirror_mode": {
    "name": "ipython",
    "version": 3
   },
   "file_extension": ".py",
   "mimetype": "text/x-python",
   "name": "python",
   "nbconvert_exporter": "python",
   "pygments_lexer": "ipython3",
   "version": "3.9.7"
  }
 },
 "nbformat": 4,
 "nbformat_minor": 5
}
