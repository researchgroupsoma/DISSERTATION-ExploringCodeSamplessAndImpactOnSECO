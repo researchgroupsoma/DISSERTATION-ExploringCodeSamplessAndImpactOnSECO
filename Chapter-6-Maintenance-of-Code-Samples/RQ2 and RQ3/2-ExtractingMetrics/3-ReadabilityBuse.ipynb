{
 "cells": [
  {
   "cell_type": "code",
   "execution_count": null,
   "metadata": {},
   "outputs": [],
   "source": [
    "pip install GitPython"
   ]
  },
  {
   "cell_type": "code",
   "execution_count": null,
   "metadata": {},
   "outputs": [],
   "source": [
    "pip install JPype1"
   ]
  },
  {
   "cell_type": "code",
   "execution_count": null,
   "metadata": {},
   "outputs": [],
   "source": [
    "def printStatus(index, size):\n",
    "    print(\"{0}% Completed samples\".format((index / size) * 100))"
   ]
  },
  {
   "cell_type": "code",
   "execution_count": null,
   "metadata": {},
   "outputs": [],
   "source": [
    "from git import Repo\n",
    "import pandas as pd\n",
    "import numpy as np\n",
    "import os\n",
    "import fnmatch\n",
    "from statistics import mean\n",
    "import shutil"
   ]
  },
  {
   "cell_type": "code",
   "execution_count": null,
   "metadata": {},
   "outputs": [],
   "source": [
    "def findPaths(pattern, path):\n",
    "    result = []\n",
    "    for root, dirs, files in os.walk(path):\n",
    "        if '.git' in root:\n",
    "            continue\n",
    "        for name in files:\n",
    "            if fnmatch.fnmatch(name, pattern):\n",
    "                result.append(os.path.join(root, name))\n",
    "    return result"
   ]
  },
  {
   "cell_type": "markdown",
   "metadata": {},
   "source": [
    "Buse's Readability"
   ]
  },
  {
   "cell_type": "code",
   "execution_count": null,
   "metadata": {},
   "outputs": [],
   "source": [
    "# Boiler plate stuff to start the module\n",
    "import jpype\n",
    "from jpype import *\n",
    "\n",
    "class BuseReadability(object):\n",
    "    def __init__(self, project):\n",
    "#         super(Readability, self).__init__()\n",
    "        self.project = project\n",
    "        self.startJVM()\n",
    "        self.readabilityPackage = JPackage(\"raykernel\").apps.readability.eval.Main\n",
    "        self.repositoryPath = \"repositories\\\\\"+project\n",
    "\n",
    "    def startJVM(self):\n",
    "        if not jpype.isJVMStarted():\n",
    "            jpype.startJVM(jpype.getDefaultJVMPath(), '-Djava.class.path=readability.jar',  '-ea', '-Xmx4096M', convertStrings=True)\n",
    "\n",
    "    def shutdownJVM(self):\n",
    "        jpype.shutdownJVM()\n",
    "\n",
    "    def getReadability(self):\n",
    "        javaFiles = findPaths(\"*.java\", self.repositoryPath)\n",
    "        if len(javaFiles) == 0: return 0\n",
    "        readability = 0\n",
    "        array = []\n",
    "        for javaFile in javaFiles:\n",
    "            try:\n",
    "                file = open(javaFile)\n",
    "                file = file.read()\n",
    "            except:\n",
    "                file = \"\"\n",
    "            array.append(float(self.readabilityPackage.getReadability(file)))\n",
    "        return mean(array)"
   ]
  },
  {
   "cell_type": "code",
   "execution_count": null,
   "metadata": {},
   "outputs": [],
   "source": [
    "def getBuseReadability(sample, commit):\n",
    "    checkoutTo(sample, commit)\n",
    "    r = BuseReadability(sample.split(\"/\")[0]+\"\\\\\"+sample.split(\"/\")[1])\n",
    "    readability = r.getReadability()\n",
    "    del r\n",
    "    return readability"
   ]
  },
  {
   "cell_type": "code",
   "execution_count": null,
   "metadata": {},
   "outputs": [],
   "source": [
    "def checkoutTo(project, sha):\n",
    "    projectPath = \"repositories/\" + project\n",
    "    repository = Repo(projectPath)\n",
    "    repository.git.checkout(sha, \"-f\")"
   ]
  },
  {
   "cell_type": "code",
   "execution_count": null,
   "metadata": {},
   "outputs": [],
   "source": [
    "samples = pd.read_csv(\"../1-GettingQuestions/sampleQuestions.csv\")"
   ]
  },
  {
   "cell_type": "code",
   "execution_count": null,
   "metadata": {},
   "outputs": [],
   "source": [
    "samples[\"full_name\"] = samples[\"framework\"] + \"/\" + samples[\"path\"]"
   ]
  },
  {
   "cell_type": "code",
   "execution_count": null,
   "metadata": {},
   "outputs": [],
   "source": [
    "samples = samples[\"full_name\"].unique().tolist()"
   ]
  },
  {
   "cell_type": "code",
   "execution_count": null,
   "metadata": {},
   "outputs": [],
   "source": [
    "samples = samples[samples.index(\"googlesamples/android-testdpc\"):]"
   ]
  },
  {
   "cell_type": "code",
   "execution_count": null,
   "metadata": {},
   "outputs": [],
   "source": [
    "for sample in samples:\n",
    "    print(sample)\n",
    "    file_address = f\"metrics/{sample}.csv\"\n",
    "    metrics = pd.read_csv(file_address)\n",
    "    metrics[\"Buse Readability\"] = 0\n",
    "    last_commit_result = (\"0\",0)\n",
    "    printStatus(samples.index(sample), len(samples))\n",
    "    for index in range(0, len(metrics)):\n",
    "        print(f\"{index}/{len(metrics)} of line analized from {sample}\")\n",
    "        current_commit = metrics.iloc[index][\"commitSha\"]\n",
    "        if not current_commit == last_commit_result[0]:\n",
    "            last_commit_result = (current_commit, getBuseReadability(sample, current_commit))\n",
    "        metrics.iloc[index, len(metrics.columns.values) - 1] = last_commit_result[1]\n",
    "        metrics.to_csv(file_address, index=False)"
   ]
  }
 ],
 "metadata": {
  "kernelspec": {
   "display_name": "Python 3",
   "language": "python",
   "name": "python3"
  },
  "language_info": {
   "codemirror_mode": {
    "name": "ipython",
    "version": 3
   },
   "file_extension": ".py",
   "mimetype": "text/x-python",
   "name": "python",
   "nbconvert_exporter": "python",
   "pygments_lexer": "ipython3",
   "version": "3.8.8"
  }
 },
 "nbformat": 4,
 "nbformat_minor": 4
}
