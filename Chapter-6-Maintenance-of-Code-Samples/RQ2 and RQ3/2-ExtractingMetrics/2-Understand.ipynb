{
 "cells": [
  {
   "cell_type": "markdown",
   "metadata": {},
   "source": [
    "### In this script we will extract metrics for each commit. For that you need to download and install Understand Tool, available here https://scitools.com/trial-download-3/. You need to install in 'SANER2022-CodeSamples/2-ExtractingMetrics/understand'. To run you will need license to Understand, student get free in https://scitools.com/non-commercial-license/."
   ]
  },
  {
   "cell_type": "code",
   "execution_count": null,
   "metadata": {},
   "outputs": [],
   "source": [
    "pip install GitPython"
   ]
  },
  {
   "cell_type": "code",
   "execution_count": null,
   "metadata": {},
   "outputs": [],
   "source": [
    "pip install JPype1"
   ]
  },
  {
   "cell_type": "code",
   "execution_count": null,
   "metadata": {},
   "outputs": [],
   "source": [
    "def printStatus(index, size):\n",
    "    print(\"{0}% Completed samples\".format((index / size) * 100))"
   ]
  },
  {
   "cell_type": "code",
   "execution_count": null,
   "metadata": {},
   "outputs": [],
   "source": [
    "from git import Repo\n",
    "import pandas as pd\n",
    "import numpy as np\n",
    "import os\n",
    "import fnmatch\n",
    "from statistics import mean\n",
    "import shutil"
   ]
  },
  {
   "cell_type": "code",
   "execution_count": null,
   "metadata": {},
   "outputs": [],
   "source": [
    "def getCommitsFrom(project):\n",
    "    projectPath = \"repositories/\"+project\n",
    "    repository = Repo(projectPath)\n",
    "    try:\n",
    "        repository.git.checkout(\"main\", \"-f\")\n",
    "    except:\n",
    "        repository.git.checkout(\"master\", \"-f\")\n",
    "    iterCommits = repository.iter_commits()\n",
    "    commits = []\n",
    "    for c in iterCommits:\n",
    "        commits.append(c)\n",
    "    return commits"
   ]
  },
  {
   "cell_type": "code",
   "execution_count": null,
   "metadata": {},
   "outputs": [],
   "source": [
    "def checkoutTo(project, sha):\n",
    "    projectPath = \"repositories/\" + project\n",
    "    repository = Repo(projectPath)\n",
    "    repository.git.checkout(sha, \"-f\")"
   ]
  },
  {
   "cell_type": "code",
   "execution_count": null,
   "metadata": {},
   "outputs": [],
   "source": [
    "def extractMetricsWithUnderstand(owner, project):\n",
    "    understandPath = \"understand\\\\SciTools\\\\bin\\\\pc-win64\\\\und\"\n",
    "    os.system('cmd /c \"{0} create -languages java {1}\"'.format(understandPath, project))\n",
    "    os.system('cmd /c \"{0} add {1} {2}\"'.format(understandPath, \"repositories/\"+owner+\"/\"+project, project))\n",
    "    os.system('cmd /c \"{0} settings -metrics all {1}\"'.format(understandPath, project))\n",
    "    os.system('cmd /c \"{0} settings -metricsOutputFile {1}.csv {1}\"'.format(understandPath, project))\n",
    "    os.system('cmd /c \"{0} -quiet analyze {1}\"'.format(understandPath, project))\n",
    "    os.system('cmd /c \"{0} metrics {1}\"'.format(understandPath, project))"
   ]
  },
  {
   "cell_type": "code",
   "execution_count": null,
   "metadata": {},
   "outputs": [],
   "source": [
    "def method_level_metrics(dataframe, owner, project):\n",
    "    dataframe = dataframe[dataframe[\"Kind\"].str.contains(\"Method\")]\n",
    "    dataframe[\"sample\"] = owner+\"/\"+project\n",
    "    dataframe = dataframe.groupby(\"sample\").mean()\n",
    "    return dataframe"
   ]
  },
  {
   "cell_type": "code",
   "execution_count": null,
   "metadata": {},
   "outputs": [],
   "source": [
    "def class_level_metrics(dataframe, owner, project):\n",
    "    dataframe = dataframe[dataframe[\"Kind\"].str.contains(\"Class\")]\n",
    "    dataframe[\"sample\"] = owner+\"/\"+project\n",
    "    dataframe = dataframe.groupby(\"sample\").mean()\n",
    "    return dataframe"
   ]
  },
  {
   "cell_type": "code",
   "execution_count": null,
   "metadata": {},
   "outputs": [],
   "source": [
    "def project_level_metrics(dataframe, owner, project):\n",
    "    numberJavaFiles = 0 if dataframe.empty else dataframe[\"Kind\"].value_counts()[\"File\"]\n",
    "    dataframe = dataframe[dataframe[\"Kind\"] == \"Package\"]\n",
    "    packages = len(dataframe)\n",
    "    dataframe.drop(dataframe.columns.difference(['CountDeclClass']), 1, inplace=True)\n",
    "    dataframe[\"sample\"] = owner+\"/\"+project\n",
    "    dataframe = dataframe.groupby(\"sample\").sum()\n",
    "    dataframe[\"numberJavaFiles\"] = numberJavaFiles\n",
    "    dataframe[\"packages\"] = packages\n",
    "    return dataframe"
   ]
  },
  {
   "cell_type": "code",
   "execution_count": null,
   "metadata": {},
   "outputs": [],
   "source": [
    "def readMetricsFromCsv(project):\n",
    "    dtype = {'Kind': str, 'Name': str, 'AvgCyclomatic': np.float64, 'AvgCyclomaticModified': np.float64,'AvgCyclomaticStrict': np.float64, 'AvgEssential': np.float64, 'AvgLine': np.float64, 'AvgLineBlank': np.float64,'AvgLineCode': np.float64, 'AvgLineComment': np.float64, 'CountClassBase': np.float64, 'CountClassCoupled': np.float64,'CountClassCoupledModified': np.float64, 'CountClassDerived': np.float64, 'CountDeclClass': np.float64,'CountDeclClassMethod': np.float64, 'CountDeclClassVariable': np.float64,'CountDeclExecutableUnit': np.float64, 'CountDeclFile': np.float64, 'CountDeclFunction': np.float64,'CountDeclInstanceMethod': np.float64, 'CountDeclInstanceVariable': np.float64,'CountDeclMethod': np.float64, 'CountDeclMethodAll': np.float64, 'CountDeclMethodDefault': np.float64,'CountDeclMethodPrivate': np.float64, 'CountDeclMethodProtected': np.float64,'CountDeclMethodPublic': np.float64, 'CountInput': np.float64,'CountLine': np.float64, 'CountLineBlank': np.float64,'CountLineCode': np.float64, 'CountLineCodeDecl': np.float64, 'CountLineCodeExe': np.float64,'CountLineComment': np.float64, 'CountOutput': np.float64, 'CountPath': np.float64, 'CountPathLog': np.float64,'CountSemicolon': np.float64, 'CountStmt': np.float64, 'CountStmtDecl': np.float64, 'CountStmtExe': np.float64,'Cyclomatic': np.float64, 'CyclomaticModified': np.float64, 'CyclomaticStrict': np.float64, 'Essential': np.float64, 'Knots': np.float64, 'MaxCyclomatic': np.float64, 'MaxCyclomaticModified': np.float64,'MaxCyclomaticStrict': np.float64, 'MaxEssential': np.float64,'MaxEssentialKnots': np.float64,'MaxInheritanceTree': np.float64, 'MaxNesting': np.float64, 'MinEssentialKnots': np.float64,'PercentLackOfCohesion': np.float64, 'PercentLackOfCohesionModified': np.float64,'RatioCommentToCode': np.float64, 'SumCyclomatic': np.float64, 'SumCyclomaticModified': np.float64,'SumCyclomaticStrict': np.float64, 'SumEssential': np.float64}\n",
    "    dataframe = pd.read_csv(project+\".csv\", dtype=dtype)\n",
    "    return dataframe"
   ]
  },
  {
   "cell_type": "code",
   "execution_count": null,
   "metadata": {},
   "outputs": [],
   "source": [
    "def getUnderstandMetrics(owner, project):\n",
    "    extractMetricsWithUnderstand(owner, project)\n",
    "    \n",
    "    dataframe = readMetricsFromCsv(project)\n",
    "    \n",
    "    method_level = method_level_metrics(dataframe.copy(), owner, project)\n",
    "    method_level[\"level\"] = \"method\"\n",
    "    method_level.set_index(\"level\")\n",
    "\n",
    "    \n",
    "    class_level = class_level_metrics(dataframe.copy(), owner, project)\n",
    "    class_level[\"level\"] = \"class\"\n",
    "    class_level.set_index(\"level\")    \n",
    "    \n",
    "    project_level = project_level_metrics(dataframe.copy(), owner, project)\n",
    "    project_level[\"level\"] = \"project\"\n",
    "    project_level.set_index(\"level\")\n",
    "    \n",
    "    return pd.concat([method_level, class_level, project_level], axis=0)"
   ]
  },
  {
   "cell_type": "code",
   "execution_count": null,
   "metadata": {},
   "outputs": [],
   "source": [
    "def findPaths(pattern, path):\n",
    "    result = []\n",
    "    for root, dirs, files in os.walk(path):\n",
    "        if '.git' in root:\n",
    "            continue\n",
    "        for name in files:\n",
    "            if fnmatch.fnmatch(name, pattern):\n",
    "                result.append(os.path.join(root, name))\n",
    "    return result"
   ]
  },
  {
   "cell_type": "code",
   "execution_count": null,
   "metadata": {},
   "outputs": [],
   "source": [
    "def getMetrics(commit, owner, project):\n",
    "    metrics = getUnderstandMetrics(owner, project)\n",
    "    metrics[\"commitSha\"] = commit.hexsha\n",
    "    metrics[\"commitDate\"] = commit.authored_datetime\n",
    "    return metrics"
   ]
  },
  {
   "cell_type": "code",
   "execution_count": null,
   "metadata": {},
   "outputs": [],
   "source": [
    "def deleteUnusedFiles(sample):\n",
    "    os.remove(sample + \".csv\")\n",
    "    shutil.rmtree(sample + \".und\")"
   ]
  },
  {
   "cell_type": "code",
   "execution_count": null,
   "metadata": {},
   "outputs": [],
   "source": [
    "def createDirectoryIfNotExists(dirName):\n",
    "    if not os.path.exists(dirName):\n",
    "            os.makedirs(dirName)"
   ]
  },
  {
   "cell_type": "code",
   "execution_count": null,
   "metadata": {},
   "outputs": [],
   "source": [
    "def replaceSamplePathForWindowsLike(sample):\n",
    "    return sample.replace(\"/\", \"\\\\\")"
   ]
  },
  {
   "cell_type": "code",
   "execution_count": null,
   "metadata": {},
   "outputs": [],
   "source": [
    "def extractMetricsByCommit(sample, commit):\n",
    "    owner, project = sample.split(\"\\\\\")\n",
    "    checkoutTo(sample, commit.hexsha)\n",
    "    print(\"commit ======= \" + commit.hexsha)\n",
    "    metrics = getMetrics(commit, owner, project)\n",
    "    return metrics"
   ]
  },
  {
   "cell_type": "code",
   "execution_count": null,
   "metadata": {},
   "outputs": [],
   "source": [
    "def extractMetricsForAllCommits(commits, sample):\n",
    "    allCommits = pd.DataFrame()\n",
    "    for index, commit in enumerate(commits):\n",
    "        metrics = extractMetricsByCommit(sample, commit)\n",
    "        allCommits = allCommits.append(metrics, ignore_index=True)\n",
    "        print(\"{0}% of commits completed from sample {1}\".format((index/len(commits) * 100), sample))\n",
    "        allCommits.to_csv(\"metrics\\\\\"+sample+\".csv\", index=False)\n",
    "    return allCommits"
   ]
  },
  {
   "cell_type": "code",
   "execution_count": null,
   "metadata": {},
   "outputs": [],
   "source": [
    "exclude = []\n",
    "def metricsByCommit(samples):\n",
    "    for index, sample in enumerate(samples):\n",
    "        if (sample in exclude):\n",
    "            continue\n",
    "        print(sample)\n",
    "        sample = replaceSamplePathForWindowsLike(sample)\n",
    "        \n",
    "        printStatus(index+1, len(samples))\n",
    "        \n",
    "        createDirectoryIfNotExists(\"metrics\")\n",
    "        \n",
    "        commits = getCommitsFrom(sample)\n",
    "        commits.reverse()\n",
    "        \n",
    "        owner, project = sample.split(\"\\\\\")\n",
    "        \n",
    "        createDirectoryIfNotExists(\"metrics\\\\\"+owner)\n",
    "        \n",
    "        allCommits = extractMetricsForAllCommits(commits, sample)\n",
    "        \n",
    "        deleteUnusedFiles(project)\n",
    "        \n",
    "        allCommits.to_csv(\"metrics\\\\\"+sample+\".csv\", index=False)"
   ]
  },
  {
   "cell_type": "code",
   "execution_count": null,
   "metadata": {},
   "outputs": [],
   "source": [
    "samples = pd.read_csv(\"../1-GettingQuestions/sampleQuestions.csv\")"
   ]
  },
  {
   "cell_type": "code",
   "execution_count": null,
   "metadata": {},
   "outputs": [],
   "source": [
    "samples[\"full_name\"] = samples[\"framework\"] + \"/\" +samples[\"path\"]"
   ]
  },
  {
   "cell_type": "code",
   "execution_count": null,
   "metadata": {
    "scrolled": false
   },
   "outputs": [],
   "source": [
    "metricsByCommit(samples[\"full_name\"].unique())"
   ]
  }
 ],
 "metadata": {
  "kernelspec": {
   "display_name": "Python 3",
   "language": "python",
   "name": "python3"
  },
  "language_info": {
   "codemirror_mode": {
    "name": "ipython",
    "version": 3
   },
   "file_extension": ".py",
   "mimetype": "text/x-python",
   "name": "python",
   "nbconvert_exporter": "python",
   "pygments_lexer": "ipython3",
   "version": "3.8.8"
  }
 },
 "nbformat": 4,
 "nbformat_minor": 4
}
