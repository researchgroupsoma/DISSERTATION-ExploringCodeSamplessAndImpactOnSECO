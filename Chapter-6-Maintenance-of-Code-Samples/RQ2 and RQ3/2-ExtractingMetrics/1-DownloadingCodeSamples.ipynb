{
 "cells": [
  {
   "cell_type": "markdown",
   "metadata": {},
   "source": [
    "Loading libraries"
   ]
  },
  {
   "cell_type": "code",
   "execution_count": null,
   "metadata": {},
   "outputs": [],
   "source": [
    "pip install GitPython"
   ]
  },
  {
   "cell_type": "code",
   "execution_count": null,
   "metadata": {},
   "outputs": [],
   "source": [
    "from git import Repo\n",
    "import os\n",
    "import pandas as pd"
   ]
  },
  {
   "cell_type": "markdown",
   "metadata": {},
   "source": [
    "Download projects"
   ]
  },
  {
   "cell_type": "code",
   "execution_count": null,
   "metadata": {},
   "outputs": [],
   "source": [
    "def clone(gitUrl, repoDir, sample):\n",
    "    Repo.clone_from(gitUrl, repoDir + sample)"
   ]
  },
  {
   "cell_type": "code",
   "execution_count": null,
   "metadata": {},
   "outputs": [],
   "source": [
    "def createGitHubUrl(sample):\n",
    "    return \"https://github.com/\" + sample + \".git\""
   ]
  },
  {
   "cell_type": "code",
   "execution_count": null,
   "metadata": {},
   "outputs": [],
   "source": [
    "def download(sample):\n",
    "    gitHubUrl = createGitHubUrl(sample)\n",
    "    print(\"Downloading %s\" % sample)\n",
    "    repoDir = \"repositories/\"\n",
    "    isdir = os.path.isdir(repoDir+sample)\n",
    "    if isdir:\n",
    "        print(\"Project \" + sample + \" previously downloaded\")\n",
    "    else:\n",
    "        clone(gitHubUrl, repoDir, sample)\n",
    "        print(\"%s downloaded\" % sample)\n"
   ]
  },
  {
   "cell_type": "code",
   "execution_count": null,
   "metadata": {},
   "outputs": [],
   "source": [
    "samples = pd.read_csv(\"../1-GettingQuestions/sampleQuestions.csv\")"
   ]
  },
  {
   "cell_type": "code",
   "execution_count": null,
   "metadata": {},
   "outputs": [],
   "source": [
    "len(samples.groupby(by=\"path\", dropna=False))"
   ]
  },
  {
   "cell_type": "code",
   "execution_count": null,
   "metadata": {},
   "outputs": [],
   "source": [
    "for i in range (0, len(samples)):\n",
    "    sample = samples.iloc[i]\n",
    "    sample_name = sample[\"framework\"]+\"/\"+sample[\"path\"]\n",
    "    download(sample_name)"
   ]
  }
 ],
 "metadata": {
  "kernelspec": {
   "display_name": "Python 3",
   "language": "python",
   "name": "python3"
  },
  "language_info": {
   "codemirror_mode": {
    "name": "ipython",
    "version": 3
   },
   "file_extension": ".py",
   "mimetype": "text/x-python",
   "name": "python",
   "nbconvert_exporter": "python",
   "pygments_lexer": "ipython3",
   "version": "3.8.8"
  }
 },
 "nbformat": 4,
 "nbformat_minor": 4
}
