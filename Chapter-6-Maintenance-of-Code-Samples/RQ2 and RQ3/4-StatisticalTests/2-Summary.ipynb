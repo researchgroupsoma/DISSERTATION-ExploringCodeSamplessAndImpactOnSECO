{
 "cells": [
  {
   "cell_type": "code",
   "execution_count": 1,
   "id": "judicial-penalty",
   "metadata": {},
   "outputs": [],
   "source": [
    "import pandas as pd\n",
    "import numpy as np\n",
    "import statistics"
   ]
  },
  {
   "cell_type": "code",
   "execution_count": 2,
   "id": "59f378a2",
   "metadata": {},
   "outputs": [],
   "source": [
    "mannKendallResult = pd.read_csv(\"mann_kendall_results.csv\")"
   ]
  },
  {
   "cell_type": "code",
   "execution_count": 3,
   "id": "2e2bd304",
   "metadata": {},
   "outputs": [],
   "source": [
    "mannKendallResultSum = list()\n",
    "for metric in mannKendallResult.columns.values:\n",
    "    metrics = mannKendallResult[metric]\n",
    "    if(\"trend\" in metric and not \"question\" in metric):\n",
    "        metrics = metrics.value_counts()\n",
    "        mannKendallResultSum.append(\n",
    "            {\n",
    "                \"metric\": \" \".join(metric.split(\" \")[:-1]),\n",
    "                \"no trend\": metrics[\"no trend\"] if \"no trend\" in metrics.index else 0, \n",
    "                \"increasing\": metrics[\"increasing\"] if \"increasing\" in metrics.index else 0, \n",
    "                \"decreasing\": metrics[\"decreasing\"] if \"decreasing\" in metrics.index else 0\n",
    "            }\n",
    "        )"
   ]
  },
  {
   "cell_type": "code",
   "execution_count": 4,
   "id": "7b74ac7a",
   "metadata": {
    "scrolled": true
   },
   "outputs": [],
   "source": [
    "pd.DataFrame(mannKendallResultSum).to_csv(\"mann_kendall_result_summary.csv\", index=False)"
   ]
  },
  {
   "cell_type": "code",
   "execution_count": 5,
   "id": "6ae0d93a",
   "metadata": {},
   "outputs": [],
   "source": [
    "correlationResult = pd.read_csv(\"correlation_results.csv\")"
   ]
  },
  {
   "cell_type": "code",
   "execution_count": 6,
   "id": "d455e7ed",
   "metadata": {},
   "outputs": [],
   "source": [
    "correlationResultSum = list()\n",
    "correlation = \"\"\n",
    "pvalue = \"\"\n",
    "for metric in correlationResult.columns.values:\n",
    "    metrics = correlationResult[metric]\n",
    "    if (\"framework\" in metric):\n",
    "        continue\n",
    "    if(\"correlation\" in metric):\n",
    "        correlation = metric\n",
    "    elif(\"pvalue\" in metric):\n",
    "        pvalue = metric\n",
    "    if (correlation and pvalue and correlation.split(\" \")[:-1] == pvalue.split(\" \")[:-1]):\n",
    "        correlationResultSum.append(\n",
    "            {\n",
    "                \"metric\": \" \".join(metric.split(\" \")[:-1]),\n",
    "                \"positive correlation\": len(correlationResult[(correlationResult[pvalue] < 0.05) & (correlationResult[correlation] > 0)]), \n",
    "                \"negative correlation\": len(correlationResult[(correlationResult[pvalue] < 0.05) & (correlationResult[correlation] < 0)]), \n",
    "                \"inconclusive\": len(correlationResult[pd.isna(correlationResult[pvalue])]) + len(correlationResult[correlationResult[pvalue] > 0.05])\n",
    "            }\n",
    "        )"
   ]
  },
  {
   "cell_type": "code",
   "execution_count": 7,
   "id": "93ddb1a3",
   "metadata": {},
   "outputs": [],
   "source": [
    "pd.DataFrame(correlationResultSum).to_csv(\"correlation_result_summary.csv\", index=False)"
   ]
  }
 ],
 "metadata": {
  "kernelspec": {
   "display_name": "Python 3",
   "language": "python",
   "name": "python3"
  },
  "language_info": {
   "codemirror_mode": {
    "name": "ipython",
    "version": 3
   },
   "file_extension": ".py",
   "mimetype": "text/x-python",
   "name": "python",
   "nbconvert_exporter": "python",
   "pygments_lexer": "ipython3",
   "version": "3.8.8"
  }
 },
 "nbformat": 4,
 "nbformat_minor": 5
}
