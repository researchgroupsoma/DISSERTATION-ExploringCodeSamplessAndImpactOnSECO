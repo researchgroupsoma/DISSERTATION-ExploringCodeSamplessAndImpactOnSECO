{
 "cells": [
  {
   "cell_type": "code",
   "execution_count": 83,
   "id": "ac0a3931",
   "metadata": {},
   "outputs": [
    {
     "name": "stdout",
     "output_type": "stream",
     "text": [
      "Collecting scikit_posthocs\n",
      "  Downloading scikit-posthocs-0.6.7.tar.gz (43 kB)\n",
      "  Installing build dependencies: started\n",
      "  Installing build dependencies: finished with status 'done'\n",
      "  Getting requirements to build wheel: started\n",
      "  Getting requirements to build wheel: finished with status 'done'\n",
      "    Preparing wheel metadata: started\n",
      "    Preparing wheel metadata: finished with status 'done'\n",
      "Requirement already satisfied: seaborn in c:\\programdata\\anaconda3\\lib\\site-packages (from scikit_posthocs) (0.11.1)\n",
      "Requirement already satisfied: scipy in c:\\programdata\\anaconda3\\lib\\site-packages (from scikit_posthocs) (1.6.2)\n",
      "Requirement already satisfied: numpy in c:\\programdata\\anaconda3\\lib\\site-packages (from scikit_posthocs) (1.20.1)\n",
      "Requirement already satisfied: statsmodels in c:\\programdata\\anaconda3\\lib\\site-packages (from scikit_posthocs) (0.12.2)\n",
      "Requirement already satisfied: matplotlib in c:\\programdata\\anaconda3\\lib\\site-packages (from scikit_posthocs) (3.3.4)\n",
      "Requirement already satisfied: pandas>=0.20.0 in c:\\programdata\\anaconda3\\lib\\site-packages (from scikit_posthocs) (1.2.4)\n",
      "Requirement already satisfied: python-dateutil>=2.7.3 in c:\\programdata\\anaconda3\\lib\\site-packages (from pandas>=0.20.0->scikit_posthocs) (2.8.1)\n",
      "Requirement already satisfied: pytz>=2017.3 in c:\\programdata\\anaconda3\\lib\\site-packages (from pandas>=0.20.0->scikit_posthocs) (2021.1)\n",
      "Requirement already satisfied: six>=1.5 in c:\\programdata\\anaconda3\\lib\\site-packages (from python-dateutil>=2.7.3->pandas>=0.20.0->scikit_posthocs) (1.15.0)\n",
      "Requirement already satisfied: pyparsing!=2.0.4,!=2.1.2,!=2.1.6,>=2.0.3 in c:\\programdata\\anaconda3\\lib\\site-packages (from matplotlib->scikit_posthocs) (2.4.7)\n",
      "Requirement already satisfied: kiwisolver>=1.0.1 in c:\\programdata\\anaconda3\\lib\\site-packages (from matplotlib->scikit_posthocs) (1.3.1)\n",
      "Requirement already satisfied: pillow>=6.2.0 in c:\\programdata\\anaconda3\\lib\\site-packages (from matplotlib->scikit_posthocs) (8.2.0)\n",
      "Requirement already satisfied: cycler>=0.10 in c:\\programdata\\anaconda3\\lib\\site-packages (from matplotlib->scikit_posthocs) (0.10.0)\n",
      "Requirement already satisfied: patsy>=0.5 in c:\\programdata\\anaconda3\\lib\\site-packages (from statsmodels->scikit_posthocs) (0.5.1)\n",
      "Building wheels for collected packages: scikit-posthocs\n",
      "  Building wheel for scikit-posthocs (PEP 517): started\n",
      "  Building wheel for scikit-posthocs (PEP 517): finished with status 'done'\n",
      "  Created wheel for scikit-posthocs: filename=scikit_posthocs-0.6.7-py3-none-any.whl size=37902 sha256=fcd905a1ab138e451fd294b0d26f3dbc47da7751f597501843cd93fa120a55a0\n",
      "  Stored in directory: c:\\users\\mrgab\\appdata\\local\\pip\\cache\\wheels\\59\\a1\\76\\8954a8efb2e143534be5943de94a245c673b25b9ce71c3aab3\n",
      "Successfully built scikit-posthocs\n",
      "Installing collected packages: scikit-posthocs\n",
      "Successfully installed scikit-posthocs-0.6.7\n",
      "Note: you may need to restart the kernel to use updated packages.\n"
     ]
    }
   ],
   "source": [
    "pip install scikit_posthocs"
   ]
  },
  {
   "cell_type": "code",
   "execution_count": 106,
   "id": "2b78c7cd",
   "metadata": {},
   "outputs": [],
   "source": [
    "import pandas as pd\n",
    "from scipy import stats\n",
    "import numpy as np\n",
    "import scikit_posthocs as sp"
   ]
  },
  {
   "cell_type": "code",
   "execution_count": 107,
   "id": "4f58682a",
   "metadata": {},
   "outputs": [],
   "source": [
    "mann_kendall_results = pd.read_csv(\"mann_kendall_results.csv\")"
   ]
  },
  {
   "cell_type": "code",
   "execution_count": 121,
   "id": "7b4203b7",
   "metadata": {},
   "outputs": [],
   "source": [
    "metrics = mann_kendall_results.columns.values.tolist()\n",
    "metrics.remove(\"full_name\")\n",
    "metrics.remove(\"framework\")\n",
    "metrics.remove(\"questions pvalue\")\n",
    "for metric in metrics:\n",
    "    if \"trend\" in metric:\n",
    "        metrics.remove(metric)"
   ]
  },
  {
   "cell_type": "code",
   "execution_count": 120,
   "id": "1b6346cb",
   "metadata": {
    "scrolled": true
   },
   "outputs": [
    {
     "name": "stdout",
     "output_type": "stream",
     "text": [
      "A metrica JAVA pvalue tem distribuição normal?  False\n",
      "A metrica CLASSES pvalue tem distribuição normal?  False\n",
      "A metrica PKG pvalue tem distribuição normal?  False\n",
      "A metrica BWR pvalue tem distribuição normal?  False\n",
      "A metrica SAR pvalue tem distribuição normal?  False\n",
      "A metrica FANIN pvalue tem distribuição normal?  False\n",
      "A metrica FANOUT pvalue tem distribuição normal?  False\n",
      "A metrica CC pvalue tem distribuição normal?  False\n",
      "A metrica CCM pvalue tem distribuição normal?  False\n",
      "A metrica CCS pvalue tem distribuição normal?  False\n",
      "A metrica EC pvalue tem distribuição normal?  False\n",
      "A metrica KNTS pvalue tem distribuição normal?  False\n",
      "A metrica NPATH pvalue tem distribuição normal?  False\n",
      "A metrica NPLOG pvalue tem distribuição normal?  False\n",
      "A metrica PL pvalue tem distribuição normal?  False\n",
      "A metrica LOC pvalue tem distribuição normal?  False\n",
      "A metrica DLOC pvalue tem distribuição normal?  False\n",
      "A metrica ELOC pvalue tem distribuição normal?  False\n",
      "A metrica CLOC pvalue tem distribuição normal?  False\n",
      "A metrica BL pvalue tem distribuição normal?  False\n",
      "A metrica NV pvalue tem distribuição normal?  False\n",
      "A metrica AM pvalue tem distribuição normal?  False\n",
      "A metrica NPRM pvalue tem distribuição normal?  False\n",
      "A metrica NPM pvalue tem distribuição normal?  False\n",
      "A metrica PM pvalue tem distribuição normal?  False\n",
      "A metrica LM pvalue tem distribuição normal?  False\n",
      "A metrica STMT pvalue tem distribuição normal?  False\n",
      "A metrica DSTMT pvalue tem distribuição normal?  False\n",
      "A metrica ESTMT pvalue tem distribuição normal?  False\n",
      "A metrica CCR pvalue tem distribuição normal?  False\n",
      "A metrica WMC pvalue tem distribuição normal?  False\n",
      "A metrica NOC pvalue tem distribuição normal?  False\n",
      "A metrica DIT pvalue tem distribuição normal?  False\n",
      "A metrica LCOM pvalue tem distribuição normal?  False\n",
      "A metrica CBO pvalue tem distribuição normal?  False\n",
      "A metrica RFC pvalue tem distribuição normal?  False\n",
      "A metrica NIV pvalue tem distribuição normal?  False\n",
      "A metrica questions pvalue tem distribuição normal?  False\n"
     ]
    }
   ],
   "source": [
    "for metric in metrics:\n",
    "    print(f\"A metrica {metric} tem distribuição normal? \", stats.shapiro(mann_kendall_results[metric]).pvalue > 0.05)"
   ]
  },
  {
   "cell_type": "code",
   "execution_count": 123,
   "id": "193ce3a3",
   "metadata": {},
   "outputs": [],
   "source": [
    "increasing = dict()\n",
    "decreasing = dict()\n",
    "no_trend = dict()\n",
    "\n",
    "for metric in metrics:\n",
    "    metric = metric.split(\" \")[0]\n",
    "    increasing[metric] = list() \n",
    "    decreasing[metric] = list()\n",
    "    no_trend[metric]   = list()\n",
    "\n",
    "for index in range(0, len(mann_kendall_results)):\n",
    "    for metric in metrics:\n",
    "        metric = metric.split(\" \")[0]\n",
    "        value = mann_kendall_results.loc[index, metric+\" trend\"]\n",
    "        if (value == \"increasing\"):\n",
    "            increasing[metric].append(mann_kendall_results.loc[index, metric+\" pvalue\"])\n",
    "        elif (value == \"decreasing\"):\n",
    "            decreasing[metric].append(mann_kendall_results.loc[index, metric+\" pvalue\"])\n",
    "        else:\n",
    "            no_trend[metric].append(mann_kendall_results.loc[index, metric+\" pvalue\"])"
   ]
  },
  {
   "cell_type": "code",
   "execution_count": 124,
   "id": "c627e921",
   "metadata": {},
   "outputs": [
    {
     "name": "stdout",
     "output_type": "stream",
     "text": [
      "Are the results of JAVA means that the three groups have difference statistically? True\n",
      "Are the results of CLASSES means that the three groups have difference statistically? True\n",
      "Are the results of PKG means that the three groups have difference statistically? True\n",
      "Are the results of BWR means that the three groups have difference statistically? True\n",
      "Are the results of SAR means that the three groups have difference statistically? True\n",
      "Are the results of FANIN means that the three groups have difference statistically? True\n",
      "Are the results of FANOUT means that the three groups have difference statistically? True\n",
      "Are the results of CC means that the three groups have difference statistically? True\n",
      "Are the results of CCM means that the three groups have difference statistically? True\n",
      "Are the results of CCS means that the three groups have difference statistically? True\n",
      "Are the results of EC means that the three groups have difference statistically? True\n",
      "Are the results of KNTS means that the three groups have difference statistically? True\n",
      "Are the results of NPATH means that the three groups have difference statistically? True\n",
      "Are the results of NPLOG means that the three groups have difference statistically? True\n",
      "Are the results of PL means that the three groups have difference statistically? True\n",
      "Are the results of LOC means that the three groups have difference statistically? True\n",
      "Are the results of DLOC means that the three groups have difference statistically? True\n",
      "Are the results of ELOC means that the three groups have difference statistically? True\n",
      "Are the results of CLOC means that the three groups have difference statistically? True\n",
      "Are the results of BL means that the three groups have difference statistically? True\n",
      "Are the results of NV means that the three groups have difference statistically? True\n",
      "Are the results of AM means that the three groups have difference statistically? True\n",
      "Are the results of NPRM means that the three groups have difference statistically? True\n",
      "Are the results of NPM means that the three groups have difference statistically? True\n",
      "Are the results of PM means that the three groups have difference statistically? True\n",
      "Are the results of LM means that the three groups have difference statistically? True\n",
      "Are the results of STMT means that the three groups have difference statistically? True\n",
      "Are the results of DSTMT means that the three groups have difference statistically? True\n",
      "Are the results of ESTMT means that the three groups have difference statistically? True\n",
      "Are the results of CCR means that the three groups have difference statistically? True\n",
      "Are the results of WMC means that the three groups have difference statistically? True\n",
      "Are the results of NOC means that the three groups have difference statistically? True\n",
      "Are the results of DIT means that the three groups have difference statistically? True\n",
      "Are the results of LCOM means that the three groups have difference statistically? True\n",
      "Are the results of CBO means that the three groups have difference statistically? True\n",
      "Are the results of RFC means that the three groups have difference statistically? True\n",
      "Are the results of NIV means that the three groups have difference statistically? True\n"
     ]
    }
   ],
   "source": [
    "for metric in metrics:\n",
    "    metric = metric.split(\" \")[0]\n",
    "    kruskal = stats.kruskal(increasing[metric], decreasing[metric], no_trend[metric], nan_policy=\"raise\")\n",
    "    print(f\"Are the results of {metric} means that the three groups have difference statistically? {kruskal.pvalue <= 0.05}\")"
   ]
  },
  {
   "cell_type": "code",
   "execution_count": 125,
   "id": "f6d32cec",
   "metadata": {},
   "outputs": [],
   "source": [
    "from __future__ import division\n",
    "\n",
    "\n",
    "def cliffsDelta(lst1, lst2, **dull):\n",
    "\n",
    "    \"\"\"Returns delta and true if there are more than 'dull' differences\"\"\"\n",
    "    if not dull:\n",
    "        dull = {'small': 0.147, 'medium': 0.33, 'large': 0.474} # effect sizes from (Hess and Kromrey, 2004)\n",
    "    m, n = len(lst1), len(lst2)\n",
    "    lst2 = sorted(lst2)\n",
    "    j = more = less = 0\n",
    "    for repeats, x in runs(sorted(lst1)):\n",
    "        while j <= (n - 1) and lst2[j] < x:\n",
    "            j += 1\n",
    "        more += j*repeats\n",
    "        while j <= (n - 1) and lst2[j] == x:\n",
    "            j += 1\n",
    "        less += (n - j)*repeats\n",
    "    d = (more - less) / (m*n)\n",
    "    size = lookup_size(d, dull)\n",
    "    return d, size\n",
    "\n",
    "\n",
    "def lookup_size(delta: float, dull: dict) -> str:\n",
    "    \"\"\"\n",
    "    :type delta: float\n",
    "    :type dull: dict, a dictionary of small, medium, large thresholds.\n",
    "    \"\"\"\n",
    "    delta = abs(delta)\n",
    "    if delta < dull['small']:\n",
    "        return 'negligible'\n",
    "    if dull['small'] <= delta < dull['medium']:\n",
    "        return 'small'\n",
    "    if dull['medium'] <= delta < dull['large']:\n",
    "        return 'medium'\n",
    "    if delta >= dull['large']:\n",
    "        return 'large'\n",
    "\n",
    "\n",
    "def runs(lst):\n",
    "    \"\"\"Iterator, chunks repeated values\"\"\"\n",
    "    for j, two in enumerate(lst):\n",
    "        if j == 0:\n",
    "            one, i = two, 0\n",
    "        if one != two:\n",
    "            yield j - i, one\n",
    "            i = j\n",
    "        one = two\n",
    "    yield j - i + 1, two"
   ]
  },
  {
   "cell_type": "code",
   "execution_count": 157,
   "id": "d6da798f",
   "metadata": {},
   "outputs": [],
   "source": [
    "metric = \"NPATH\""
   ]
  },
  {
   "cell_type": "code",
   "execution_count": 158,
   "id": "61f8dd1d",
   "metadata": {},
   "outputs": [
    {
     "data": {
      "text/plain": [
       "(0.3046275160821747, 'small')"
      ]
     },
     "execution_count": 158,
     "metadata": {},
     "output_type": "execute_result"
    }
   ],
   "source": [
    "cliffsDelta(increasing[metric], decreasing[metric])"
   ]
  },
  {
   "cell_type": "code",
   "execution_count": 159,
   "id": "c1d923dc",
   "metadata": {},
   "outputs": [
    {
     "data": {
      "text/plain": [
       "(-0.3046275160821747, 'small')"
      ]
     },
     "execution_count": 159,
     "metadata": {},
     "output_type": "execute_result"
    }
   ],
   "source": [
    "cliffsDelta(decreasing[metric], increasing[metric])"
   ]
  },
  {
   "cell_type": "code",
   "execution_count": 160,
   "id": "524bfe2f",
   "metadata": {},
   "outputs": [
    {
     "data": {
      "text/plain": [
       "(-1.0, 'large')"
      ]
     },
     "execution_count": 160,
     "metadata": {},
     "output_type": "execute_result"
    }
   ],
   "source": [
    "cliffsDelta(increasing[metric], no_trend[metric])"
   ]
  },
  {
   "cell_type": "code",
   "execution_count": 161,
   "id": "9b8d0937",
   "metadata": {},
   "outputs": [
    {
     "data": {
      "text/plain": [
       "(-1.0, 'large')"
      ]
     },
     "execution_count": 161,
     "metadata": {},
     "output_type": "execute_result"
    }
   ],
   "source": [
    "cliffsDelta(decreasing[metric], no_trend[metric])"
   ]
  },
  {
   "cell_type": "code",
   "execution_count": 131,
   "id": "cb93e162",
   "metadata": {},
   "outputs": [
    {
     "name": "stdout",
     "output_type": "stream",
     "text": [
      "1    1.043855\n",
      "2    1.043855\n",
      "3    1.000000\n",
      "dtype: float64\n",
      "1    1.171314\n",
      "2    1.171314\n",
      "3    1.000000\n",
      "dtype: float64\n",
      "1    1.181702\n",
      "2    1.181702\n",
      "3    1.000000\n",
      "dtype: float64\n",
      "1    1.823552\n",
      "2    1.823552\n",
      "3    1.000000\n",
      "dtype: float64\n",
      "1    1.02774\n",
      "2    1.02774\n",
      "3    1.00000\n",
      "dtype: float64\n",
      "1    1.094547\n",
      "2    1.094547\n",
      "3    1.000000\n",
      "dtype: float64\n",
      "1    1.516221\n",
      "2    1.516221\n",
      "3    1.000000\n",
      "dtype: float64\n",
      "1    1.013183\n",
      "2    1.013183\n",
      "3    1.000000\n",
      "dtype: float64\n",
      "1    1.018899\n",
      "2    1.018899\n",
      "3    1.000000\n",
      "dtype: float64\n",
      "1    1.01205\n",
      "2    1.01205\n",
      "3    1.00000\n",
      "dtype: float64\n",
      "1    1.095847\n",
      "2    1.095847\n",
      "3    1.000000\n",
      "dtype: float64\n",
      "1    1.860947\n",
      "2    1.860947\n",
      "3    1.000000\n",
      "dtype: float64\n",
      "1    1.020428\n",
      "2    1.020428\n",
      "3    1.000000\n",
      "dtype: float64\n",
      "1    1.792671\n",
      "2    1.792671\n",
      "3    1.000000\n",
      "dtype: float64\n",
      "1    1.042429\n",
      "2    1.042429\n",
      "3    1.000000\n",
      "dtype: float64\n",
      "1    1.036799\n",
      "2    1.036799\n",
      "3    1.000000\n",
      "dtype: float64\n",
      "1    1.48505\n",
      "2    1.48505\n",
      "3    1.00000\n",
      "dtype: float64\n",
      "1    1.182872\n",
      "2    1.182872\n",
      "3    1.000000\n",
      "dtype: float64\n",
      "1    1.411495\n",
      "2    1.411495\n",
      "3    1.000000\n",
      "dtype: float64\n",
      "1    1.310168\n",
      "2    1.310168\n",
      "3    1.000000\n",
      "dtype: float64\n",
      "1    1.400767\n",
      "2    1.400767\n",
      "3    1.000000\n",
      "dtype: float64\n",
      "1    1.345778\n",
      "2    1.345778\n",
      "3    1.000000\n",
      "dtype: float64\n",
      "1    1.527141\n",
      "2    1.527141\n",
      "3    1.000000\n",
      "dtype: float64\n",
      "1    1.090929\n",
      "2    1.090929\n",
      "3    1.000000\n",
      "dtype: float64\n",
      "1    1.862691\n",
      "2    1.862691\n",
      "3    1.000000\n",
      "dtype: float64\n",
      "1    1.27794\n",
      "2    1.27794\n",
      "3    1.00000\n",
      "dtype: float64\n",
      "1    1.095546\n",
      "2    1.095546\n",
      "3    1.000000\n",
      "dtype: float64\n",
      "1    1.060273\n",
      "2    1.060273\n",
      "3    1.000000\n",
      "dtype: float64\n",
      "1    1.546945\n",
      "2    1.546945\n",
      "3    1.000000\n",
      "dtype: float64\n",
      "1    1.458175\n",
      "2    1.458175\n",
      "3    1.000000\n",
      "dtype: float64\n",
      "1    1.175135\n",
      "2    1.175135\n",
      "3    1.000000\n",
      "dtype: float64\n",
      "1    1.93669\n",
      "2    1.93669\n",
      "3    1.00000\n",
      "dtype: float64\n",
      "1    1.599703\n",
      "2    1.599703\n",
      "3    1.000000\n",
      "dtype: float64\n",
      "1    1.745769\n",
      "2    1.745769\n",
      "3    1.000000\n",
      "dtype: float64\n",
      "1    1.349881\n",
      "2    1.349881\n",
      "3    1.000000\n",
      "dtype: float64\n",
      "1    1.345778\n",
      "2    1.345778\n",
      "3    1.000000\n",
      "dtype: float64\n",
      "1    1.82319\n",
      "2    1.82319\n",
      "3    1.00000\n",
      "dtype: float64\n"
     ]
    }
   ],
   "source": [
    "for metric in metrics:\n",
    "    metric = metric.split(\" \")[0]\n",
    "    print(sp.posthoc_dunn([increasing[metric], decreasing[metric], no_trend[metric]]).sum(axis=1))"
   ]
  }
 ],
 "metadata": {
  "kernelspec": {
   "display_name": "Python 3",
   "language": "python",
   "name": "python3"
  },
  "language_info": {
   "codemirror_mode": {
    "name": "ipython",
    "version": 3
   },
   "file_extension": ".py",
   "mimetype": "text/x-python",
   "name": "python",
   "nbconvert_exporter": "python",
   "pygments_lexer": "ipython3",
   "version": "3.8.8"
  }
 },
 "nbformat": 4,
 "nbformat_minor": 5
}
