{
 "cells": [
  {
   "cell_type": "code",
   "execution_count": null,
   "metadata": {
    "colab": {},
    "colab_type": "code",
    "id": "VmwDlqYcruMG"
   },
   "outputs": [],
   "source": [
    "!wget https://archive.org/download/stackexchange/stackoverflow.com-Users.7z"
   ]
  },
  {
   "cell_type": "code",
   "execution_count": null,
   "metadata": {
    "colab": {},
    "colab_type": "code",
    "id": "t_5bmtl9t658"
   },
   "outputs": [],
   "source": [
    "!7z x -y stackoverflow.com-Users.7z"
   ]
  },
  {
   "cell_type": "code",
   "execution_count": 9,
   "metadata": {
    "colab": {},
    "colab_type": "code",
    "id": "pjI1hvP1vfp7"
   },
   "outputs": [],
   "source": [
    "import pandas as pd \n",
    "import xml.etree.ElementTree as etree"
   ]
  },
  {
   "cell_type": "code",
   "execution_count": 17,
   "metadata": {
    "colab": {},
    "colab_type": "code",
    "id": "2XZcyN7WxNRq"
   },
   "outputs": [],
   "source": [
    "columns = [\"Id\", \"Reputation\", \"CreationDate\", \"Views\", \"UpVotes\", \"DownVotes\"]\n",
    "users = []"
   ]
  },
  {
   "cell_type": "code",
   "execution_count": null,
   "metadata": {
    "colab": {},
    "colab_type": "code",
    "id": "nJSPvb9QAHvH"
   },
   "outputs": [],
   "source": [
    "with open(\"Users.xml\") as file:\n",
    "  for line in file:\n",
    "    if \"<?xml\" in line or \"<users>\" in line:\n",
    "      continue\n",
    "    node = etree.fromstring(line)\n",
    "    attributes = []\n",
    "    \n",
    "    for col in columns:\n",
    "        attributes.append(node.attrib.get(col))\n",
    "    users.append(attributes)\n",
    "    print(\"CreationDate: \" + attributes[2])\n",
    "    "
   ]
  },
  {
   "cell_type": "code",
   "execution_count": 43,
   "metadata": {
    "colab": {},
    "colab_type": "code",
    "id": "_mxnF5N5DOhO"
   },
   "outputs": [],
   "source": [
    "dataframe = pd.DataFrame(users, columns=columns)"
   ]
  },
  {
   "cell_type": "code",
   "execution_count": 44,
   "metadata": {
    "colab": {},
    "colab_type": "code",
    "id": "MvbG7jPgjuSt"
   },
   "outputs": [],
   "source": [
    "dataframe[\"Reputation\"] = pd.to_numeric(dataframe[\"Reputation\"])\n",
    "dataframe[\"CreationDate\"] = pd.to_datetime(dataframe[\"CreationDate\"])\n",
    "dataframe[\"Views\"] = pd.to_numeric(dataframe[\"Views\"])\n",
    "dataframe[\"UpVotes\"] = pd.to_numeric(dataframe[\"Views\"])\n",
    "dataframe[\"DownVotes\"] = pd.to_numeric(dataframe[\"Views\"])"
   ]
  },
  {
   "cell_type": "code",
   "execution_count": 45,
   "metadata": {
    "colab": {
     "base_uri": "https://localhost:8080/",
     "height": 134
    },
    "colab_type": "code",
    "id": "hCx7UWcaj2ez",
    "outputId": "3f72304c-9f10-4e8e-bd15-3aae207501f6"
   },
   "outputs": [
    {
     "data": {
      "text/plain": [
       "Id                      object\n",
       "Reputation               int64\n",
       "CreationDate    datetime64[ns]\n",
       "Views                    int64\n",
       "UpVotes                  int64\n",
       "DownVotes                int64\n",
       "dtype: object"
      ]
     },
     "execution_count": 45,
     "metadata": {
      "tags": []
     },
     "output_type": "execute_result"
    }
   ],
   "source": [
    "dataframe.dtypes"
   ]
  },
  {
   "cell_type": "code",
   "execution_count": 67,
   "metadata": {
    "colab": {
     "base_uri": "https://localhost:8080/",
     "height": 34
    },
    "colab_type": "code",
    "id": "dZeiyWFlwAWn",
    "outputId": "685836aa-20ae-4660-e181-563cacfc213d"
   },
   "outputs": [
    {
     "data": {
      "text/plain": [
       "1"
      ]
     },
     "execution_count": 67,
     "metadata": {
      "tags": []
     },
     "output_type": "execute_result"
    }
   ],
   "source": [
    "dataframe[\"Reputation\"].min()"
   ]
  },
  {
   "cell_type": "code",
   "execution_count": 68,
   "metadata": {
    "colab": {
     "base_uri": "https://localhost:8080/",
     "height": 34
    },
    "colab_type": "code",
    "id": "0ZUDVGtZwvHZ",
    "outputId": "bf02eb07-0ab5-4806-b38f-aa421b365a34"
   },
   "outputs": [
    {
     "data": {
      "text/plain": [
       "1185733"
      ]
     },
     "execution_count": 68,
     "metadata": {
      "tags": []
     },
     "output_type": "execute_result"
    }
   ],
   "source": [
    "dataframe[\"Reputation\"].max()"
   ]
  },
  {
   "cell_type": "code",
   "execution_count": 69,
   "metadata": {
    "colab": {
     "base_uri": "https://localhost:8080/",
     "height": 34
    },
    "colab_type": "code",
    "id": "3uz0qQ6EwvWp",
    "outputId": "7593609b-621a-4c86-97aa-f9925d8d7fbc"
   },
   "outputs": [
    {
     "data": {
      "text/plain": [
       "119.63363706738122"
      ]
     },
     "execution_count": 69,
     "metadata": {
      "tags": []
     },
     "output_type": "execute_result"
    }
   ],
   "source": [
    "dataframe[\"Reputation\"].mean()"
   ]
  },
  {
   "cell_type": "code",
   "execution_count": 70,
   "metadata": {
    "colab": {
     "base_uri": "https://localhost:8080/",
     "height": 34
    },
    "colab_type": "code",
    "id": "uomVJWkMwveI",
    "outputId": "fcf092b5-7d64-4c78-f84b-ba6bc5bce6f3"
   },
   "outputs": [
    {
     "data": {
      "text/plain": [
       "1.0"
      ]
     },
     "execution_count": 70,
     "metadata": {
      "tags": []
     },
     "output_type": "execute_result"
    }
   ],
   "source": [
    "dataframe[\"Reputation\"].median()"
   ]
  },
  {
   "cell_type": "code",
   "execution_count": 71,
   "metadata": {
    "colab": {
     "base_uri": "https://localhost:8080/",
     "height": 50
    },
    "colab_type": "code",
    "id": "_1QkbKWwwvpf",
    "outputId": "f620bc80-f910-43b6-839a-ecd44bebb5a3"
   },
   "outputs": [
    {
     "data": {
      "text/plain": [
       "0    1\n",
       "dtype: int64"
      ]
     },
     "execution_count": 71,
     "metadata": {
      "tags": []
     },
     "output_type": "execute_result"
    }
   ],
   "source": [
    "dataframe[\"Reputation\"].mode()"
   ]
  },
  {
   "cell_type": "code",
   "execution_count": 72,
   "metadata": {
    "colab": {
     "base_uri": "https://localhost:8080/",
     "height": 34
    },
    "colab_type": "code",
    "id": "oUpHZbq6xDrz",
    "outputId": "0f4a0643-71b1-47d4-d1dc-effd97f4fb4c"
   },
   "outputs": [
    {
     "data": {
      "text/plain": [
       "2407.321750602207"
      ]
     },
     "execution_count": 72,
     "metadata": {
      "tags": []
     },
     "output_type": "execute_result"
    }
   ],
   "source": [
    "dataframe[\"Reputation\"].std()"
   ]
  },
  {
   "cell_type": "code",
   "execution_count": 58,
   "metadata": {
    "colab": {},
    "colab_type": "code",
    "id": "neV8XYJLKnTO"
   },
   "outputs": [],
   "source": [
    "dataframe.to_csv(\"saida.csv\")"
   ]
  },
  {
   "cell_type": "code",
   "execution_count": 74,
   "metadata": {
    "colab": {
     "base_uri": "https://localhost:8080/",
     "height": 306
    },
    "colab_type": "code",
    "collapsed": true,
    "id": "RiqbAyyhzAXX",
    "outputId": "d4734d37-8774-4fbb-9913-9787a4e236d2"
   },
   "outputs": [
    {
     "data": {
      "text/plain": [
       "<matplotlib.axes._subplots.AxesSubplot at 0x7f7433641978>"
      ]
     },
     "execution_count": 74,
     "metadata": {
      "tags": []
     },
     "output_type": "execute_result"
    },
    {
     "data": {
      "image/png": "[encoded data removed]",
      "text/plain": [
       "<Figure size 432x288 with 1 Axes>"
      ]
     },
     "metadata": {
      "needs_background": "light",
      "tags": []
     },
     "output_type": "display_data"
    }
   ],
   "source": [
    "dataframe[\"Reputation\"].plot.kde()"
   ]
  },
  {
   "cell_type": "code",
   "execution_count": 75,
   "metadata": {
    "colab": {
     "base_uri": "https://localhost:8080/",
     "height": 306
    },
    "colab_type": "code",
    "collapsed": true,
    "id": "0ZZpiTVn1KwN",
    "outputId": "032b2005-fb8b-467e-9dfc-2a9f2c220c73"
   },
   "outputs": [
    {
     "data": {
      "text/plain": [
       "<matplotlib.axes._subplots.AxesSubplot at 0x7f748969d588>"
      ]
     },
     "execution_count": 75,
     "metadata": {
      "tags": []
     },
     "output_type": "execute_result"
    },
    {
     "data": {
      "image/png": "[encoded data removed]",
      "text/plain": [
       "<Figure size 432x288 with 1 Axes>"
      ]
     },
     "metadata": {
      "needs_background": "light",
      "tags": []
     },
     "output_type": "display_data"
    }
   ],
   "source": [
    "dataframe[\"Reputation\"].plot()"
   ]
  }
 ],
 "metadata": {
  "colab": {
   "collapsed_sections": [],
   "name": "Untitled0.ipynb",
   "provenance": []
  },
  "kernelspec": {
   "display_name": "Python 3 (ipykernel)",
   "language": "python",
   "name": "python3"
  },
  "language_info": {
   "codemirror_mode": {
    "name": "ipython",
    "version": 3
   },
   "file_extension": ".py",
   "mimetype": "text/x-python",
   "name": "python",
   "nbconvert_exporter": "python",
   "pygments_lexer": "ipython3",
   "version": "3.9.7"
  }
 },
 "nbformat": 4,
 "nbformat_minor": 1
}
