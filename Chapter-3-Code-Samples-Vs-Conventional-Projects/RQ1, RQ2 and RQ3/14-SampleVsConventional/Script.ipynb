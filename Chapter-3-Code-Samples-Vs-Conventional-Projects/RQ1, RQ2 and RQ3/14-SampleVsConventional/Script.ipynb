{
 "cells": [
  {
   "cell_type": "code",
   "execution_count": 14,
   "id": "super-empty",
   "metadata": {},
   "outputs": [],
   "source": [
    "import os\n",
    "os.chdir(\"/home/jovyan/work/JSS20221/1-Projects\")"
   ]
  },
  {
   "cell_type": "code",
   "execution_count": 1,
   "id": "american-advocate",
   "metadata": {},
   "outputs": [],
   "source": [
    "from __future__ import division\n",
    "import pandas as pd\n",
    "from scipy.stats import wilcoxon"
   ]
  },
  {
   "cell_type": "code",
   "execution_count": 2,
   "id": "labeled-optimization",
   "metadata": {},
   "outputs": [],
   "source": [
    "def cliffsDelta(lst1, lst2, **dull):\n",
    "    \"\"\"Returns delta and true if there are more than 'dull' differences\"\"\"\n",
    "    if not dull:\n",
    "        dull = {'small': 0.147, 'medium': 0.33, 'large': 0.474} # effect sizes from (Hess and Kromrey, 2004)\n",
    "    m, n = len(lst1), len(lst2)\n",
    "    lst2 = sorted(lst2)\n",
    "    j = more = less = 0\n",
    "    for repeats, x in runs(sorted(lst1)):\n",
    "        while j <= (n - 1) and lst2[j] < x:\n",
    "            j += 1\n",
    "        more += j*repeats\n",
    "        while j <= (n - 1) and lst2[j] == x:\n",
    "            j += 1\n",
    "        less += (n - j)*repeats\n",
    "    d = (more - less) / (m*n)\n",
    "    size = lookup_size(d, dull)\n",
    "    return d, size\n"
   ]
  },
  {
   "cell_type": "code",
   "execution_count": 3,
   "id": "desperate-pennsylvania",
   "metadata": {},
   "outputs": [],
   "source": [
    "def lookup_size(delta: float, dull: dict) -> str:\n",
    "    \"\"\"\n",
    "    :type delta: float\n",
    "    :type dull: dict, a dictionary of small, medium, large thresholds.\n",
    "    \"\"\"\n",
    "    delta = abs(delta)\n",
    "    if delta < dull['small']:\n",
    "        return 'negligible'\n",
    "    if dull['small'] <= delta < dull['medium']:\n",
    "        return 'small'\n",
    "    if dull['medium'] <= delta < dull['large']:\n",
    "        return 'medium'\n",
    "    if delta >= dull['large']:\n",
    "        return 'large'"
   ]
  },
  {
   "cell_type": "code",
   "execution_count": 4,
   "id": "stable-elizabeth",
   "metadata": {},
   "outputs": [],
   "source": [
    "def runs(lst):\n",
    "    \"\"\"Iterator, chunks repeated values\"\"\"\n",
    "    for j, two in enumerate(lst):\n",
    "        if j == 0:\n",
    "            one, i = two, 0\n",
    "        if one != two:\n",
    "            yield j - i, one\n",
    "            i = j\n",
    "        one = two\n",
    "    yield j - i + 1, two"
   ]
  },
  {
   "cell_type": "code",
   "execution_count": 8,
   "id": "prescription-resource",
   "metadata": {},
   "outputs": [],
   "source": [
    "def analyze(title, x, y):\n",
    "    rst = wilcoxon(x, y)\n",
    "    if rst.pvalue <= 0.05:\n",
    "        print(title)\n",
    "        print(\"Significant difference\")\n",
    "        print(\"p-value %.16f\" % rst.pvalue)\n",
    "        print(\"effect size: \", end=\"\")\n",
    "        print(cliffsDelta(x, y))\n",
    "    else:\n",
    "        print(title)\n",
    "        print(\"No significant difference\")\n",
    "    print(\"########\")"
   ]
  },
  {
   "cell_type": "markdown",
   "id": "accepting-trustee",
   "metadata": {},
   "source": [
    "## RQ1"
   ]
  },
  {
   "cell_type": "code",
   "execution_count": 20,
   "id": "hollywood-substitute",
   "metadata": {},
   "outputs": [],
   "source": [
    "android_samples = pd.read_csv(\"5-UnderstandMetrics/android_understandmetrics_output.csv\")"
   ]
  },
  {
   "cell_type": "code",
   "execution_count": 21,
   "id": "cleared-format",
   "metadata": {},
   "outputs": [],
   "source": [
    "android_general_projects = pd.read_csv(\"5-UnderstandMetrics/conventional_android_understandmetrics_output.csv\")"
   ]
  },
  {
   "cell_type": "code",
   "execution_count": 22,
   "id": "personal-sapphire",
   "metadata": {},
   "outputs": [],
   "source": [
    "spring_samples = pd.read_csv(\"5-UnderstandMetrics/spring_understandmetrics_output.csv\")"
   ]
  },
  {
   "cell_type": "code",
   "execution_count": 23,
   "id": "distinguished-pregnancy",
   "metadata": {},
   "outputs": [],
   "source": [
    "spring_general_projects = pd.read_csv(\"5-UnderstandMetrics/conventional_spring_understandmetrics_output.csv\")"
   ]
  },
  {
   "cell_type": "markdown",
   "id": "technical-multimedia",
   "metadata": {},
   "source": [
    "### Number of Files"
   ]
  },
  {
   "cell_type": "code",
   "execution_count": 25,
   "id": "severe-catholic",
   "metadata": {},
   "outputs": [
    {
     "name": "stdout",
     "output_type": "stream",
     "text": [
      "Android Number of Java Files\n",
      "Significant difference\n",
      "p-value 0.0000000000024141\n",
      "effect size: (-0.42671745867768596, 'medium')\n",
      "########\n"
     ]
    }
   ],
   "source": [
    "analyze(\"Android Number of Java Files\", android_samples[\"numberOfJavaFiles\"], android_general_projects[\"numberOfJavaFiles\"])"
   ]
  },
  {
   "cell_type": "code",
   "execution_count": 26,
   "id": "buried-department",
   "metadata": {},
   "outputs": [
    {
     "name": "stdout",
     "output_type": "stream",
     "text": [
      "Spring Number of Java Files\n",
      "Significant difference\n",
      "p-value 0.0000000000541972\n",
      "effect size: (-0.9824561403508771, 'large')\n",
      "########\n"
     ]
    }
   ],
   "source": [
    "analyze(\"Spring Number of Java Files\", spring_samples[\"numberOfJavaFiles\"], spring_general_projects[\"numberOfJavaFiles\"])"
   ]
  },
  {
   "cell_type": "markdown",
   "id": "boxed-engineer",
   "metadata": {},
   "source": [
    "### Lines of Code per file"
   ]
  },
  {
   "cell_type": "code",
   "execution_count": 28,
   "id": "decent-effect",
   "metadata": {},
   "outputs": [],
   "source": [
    "android_samples[\"codeLinePerFile\"] = android_samples[\"CountLineCode\"]/android_samples[\"numberOfJavaFiles\"]"
   ]
  },
  {
   "cell_type": "code",
   "execution_count": 29,
   "id": "southeast-facing",
   "metadata": {},
   "outputs": [],
   "source": [
    "android_general_projects[\"codeLinePerFile\"] = android_general_projects[\"CountLineCode\"]/android_general_projects[\"numberOfJavaFiles\"]"
   ]
  },
  {
   "cell_type": "code",
   "execution_count": 30,
   "id": "lasting-banks",
   "metadata": {},
   "outputs": [],
   "source": [
    "spring_samples[\"codeLinePerFile\"] = spring_samples[\"CountLineCode\"]/spring_samples[\"numberOfJavaFiles\"]"
   ]
  },
  {
   "cell_type": "code",
   "execution_count": 31,
   "id": "olive-logan",
   "metadata": {},
   "outputs": [],
   "source": [
    "spring_general_projects[\"codeLinePerFile\"] = spring_general_projects[\"CountLineCode\"]/spring_general_projects[\"numberOfJavaFiles\"]"
   ]
  },
  {
   "cell_type": "code",
   "execution_count": 32,
   "id": "downtown-couple",
   "metadata": {},
   "outputs": [
    {
     "name": "stdout",
     "output_type": "stream",
     "text": [
      "Android Lines of code per file\n",
      "No significant difference\n",
      "########\n"
     ]
    }
   ],
   "source": [
    "analyze(\"Android Lines of code per file\", android_samples[\"codeLinePerFile\"], android_general_projects[\"codeLinePerFile\"])"
   ]
  },
  {
   "cell_type": "code",
   "execution_count": 33,
   "id": "ethical-article",
   "metadata": {},
   "outputs": [
    {
     "name": "stdout",
     "output_type": "stream",
     "text": [
      "Spring Lines of code per file\n",
      "Significant difference\n",
      "p-value 0.0000000006516612\n",
      "effect size: (-0.8307171437365343, 'large')\n",
      "########\n"
     ]
    }
   ],
   "source": [
    "analyze(\"Spring Lines of code per file\", spring_samples[\"codeLinePerFile\"], spring_general_projects[\"codeLinePerFile\"])"
   ]
  },
  {
   "cell_type": "markdown",
   "id": "distinct-penetration",
   "metadata": {},
   "source": [
    "### Relative comment lines"
   ]
  },
  {
   "cell_type": "code",
   "execution_count": 44,
   "id": "political-anderson",
   "metadata": {},
   "outputs": [],
   "source": [
    "android_samples[\"RelativeLineCode\"] = android_samples[\"CountLineComment\"]/android_samples[\"numberOfJavaFiles\"]"
   ]
  },
  {
   "cell_type": "code",
   "execution_count": 45,
   "id": "twelve-cedar",
   "metadata": {},
   "outputs": [],
   "source": [
    "android_general_projects[\"RelativeLineCode\"] = android_general_projects[\"CountLineComment\"]/android_general_projects[\"numberOfJavaFiles\"]"
   ]
  },
  {
   "cell_type": "code",
   "execution_count": 46,
   "id": "vertical-pierce",
   "metadata": {},
   "outputs": [],
   "source": [
    "spring_samples[\"RelativeLineCode\"] = spring_samples[\"CountLineComment\"]/spring_samples[\"numberOfJavaFiles\"]"
   ]
  },
  {
   "cell_type": "code",
   "execution_count": 47,
   "id": "independent-postcard",
   "metadata": {},
   "outputs": [],
   "source": [
    "spring_general_projects[\"RelativeLineCode\"] = spring_general_projects[\"CountLineComment\"]/spring_general_projects[\"numberOfJavaFiles\"]"
   ]
  },
  {
   "cell_type": "code",
   "execution_count": 48,
   "id": "systematic-school",
   "metadata": {},
   "outputs": [
    {
     "name": "stdout",
     "output_type": "stream",
     "text": [
      "Android Relative Commented Line of Code\n",
      "Significant difference\n",
      "p-value 0.0000000000000000\n",
      "effect size: (0.897630423553719, 'large')\n",
      "########\n"
     ]
    }
   ],
   "source": [
    "analyze(\"Android Relative Commented Line of Code\", android_samples[\"RelativeLineCode\"], android_general_projects[\"RelativeLineCode\"])"
   ]
  },
  {
   "cell_type": "code",
   "execution_count": 49,
   "id": "after-chase",
   "metadata": {},
   "outputs": [
    {
     "name": "stdout",
     "output_type": "stream",
     "text": [
      "Spring Relative Commented Line of Code\n",
      "Significant difference\n",
      "p-value 0.0000000085975876\n",
      "effect size: (-0.7466912896275777, 'large')\n",
      "########\n"
     ]
    }
   ],
   "source": [
    "analyze(\"Spring Relative Commented Line of Code\", spring_samples[\"RelativeLineCode\"], spring_general_projects[\"RelativeLineCode\"])"
   ]
  },
  {
   "cell_type": "markdown",
   "id": "wicked-chess",
   "metadata": {},
   "source": [
    "### Cyclomatic Complexity per method"
   ]
  },
  {
   "cell_type": "code",
   "execution_count": 50,
   "id": "prompt-christmas",
   "metadata": {},
   "outputs": [],
   "source": [
    "android_samples[\"cyclomaticComplexity\"] = android_general_projects[\"SumCyclomaticStrict\"]/android_general_projects[\"CountDeclMethod\"]"
   ]
  },
  {
   "cell_type": "code",
   "execution_count": 51,
   "id": "hollywood-unknown",
   "metadata": {},
   "outputs": [],
   "source": [
    "android_general_projects[\"cyclomaticComplexity\"] = android_samples[\"SumCyclomaticStrict\"]/android_samples[\"CountDeclMethod\"]"
   ]
  },
  {
   "cell_type": "code",
   "execution_count": 52,
   "id": "functional-original",
   "metadata": {},
   "outputs": [],
   "source": [
    "spring_samples[\"cyclomaticComplexity\"] = spring_samples[\"SumCyclomaticStrict\"]/spring_samples[\"CountDeclMethod\"]"
   ]
  },
  {
   "cell_type": "code",
   "execution_count": 53,
   "id": "clear-toner",
   "metadata": {},
   "outputs": [],
   "source": [
    "spring_general_projects[\"cyclomaticComplexity\"] = spring_general_projects[\"SumCyclomaticStrict\"]/spring_general_projects[\"CountDeclMethod\"]"
   ]
  },
  {
   "cell_type": "code",
   "execution_count": 54,
   "id": "historic-still",
   "metadata": {},
   "outputs": [
    {
     "name": "stdout",
     "output_type": "stream",
     "text": [
      "Android Cyclomatic Complexity per method\n",
      "Significant difference\n",
      "p-value 0.0004454254074278\n",
      "effect size: (-0.7153279958677686, 'large')\n",
      "########\n"
     ]
    }
   ],
   "source": [
    "analyze(\"Android Cyclomatic Complexity per method\", android_samples[\"cyclomaticComplexity\"], android_general_projects[\"cyclomaticComplexity\"])"
   ]
  },
  {
   "cell_type": "code",
   "execution_count": 55,
   "id": "increased-korea",
   "metadata": {},
   "outputs": [
    {
     "name": "stdout",
     "output_type": "stream",
     "text": [
      "Spring Cyclomatic Complexity per method\n",
      "Significant difference\n",
      "p-value 0.0000163051367161\n",
      "effect size: (-0.6051092643890428, 'large')\n",
      "########\n"
     ]
    }
   ],
   "source": [
    "analyze(\"Spring Cyclomatic Complexity per method\", spring_samples[\"cyclomaticComplexity\"], spring_general_projects[\"cyclomaticComplexity\"])"
   ]
  }
 ],
 "metadata": {
  "kernelspec": {
   "display_name": "Python 3",
   "language": "python",
   "name": "python3"
  },
  "language_info": {
   "codemirror_mode": {
    "name": "ipython",
    "version": 3
   },
   "file_extension": ".py",
   "mimetype": "text/x-python",
   "name": "python",
   "nbconvert_exporter": "python",
   "pygments_lexer": "ipython3",
   "version": "3.8.6"
  }
 },
 "nbformat": 4,
 "nbformat_minor": 5
}
